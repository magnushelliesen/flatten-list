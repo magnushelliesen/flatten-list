{
 "cells": [
  {
   "attachments": {},
   "cell_type": "markdown",
   "metadata": {},
   "source": [
    "# Test of **flatten_list()**\n",
    "\n",
    "We import **flatten_list()**, make a nested list, and apply **flatten_list()** to it."
   ]
  },
  {
   "cell_type": "code",
   "execution_count": 1,
   "metadata": {},
   "outputs": [
    {
     "data": {
      "text/plain": [
       "[1, 2, 3, 4, 5, 6, 7, 8, 9]"
      ]
     },
     "execution_count": 1,
     "metadata": {},
     "output_type": "execute_result"
    }
   ],
   "source": [
    "# Import function from py-file\n",
    "from flatten_list import *\n",
    "\n",
    "# Make arbitrary nested list\n",
    "nested_list = [[[1], 2], [3, [4, [[[5, 6], 7]]], 8], [9]]\n",
    "\n",
    "# Make flattened list\n",
    "flattened_list = flatten_list(nested_list)\n",
    "\n",
    "# Display flattened list\n",
    "flattened_list"
   ]
  }
 ],
 "metadata": {
  "kernelspec": {
   "display_name": "base",
   "language": "python",
   "name": "python3"
  },
  "language_info": {
   "codemirror_mode": {
    "name": "ipython",
    "version": 3
   },
   "file_extension": ".py",
   "mimetype": "text/x-python",
   "name": "python",
   "nbconvert_exporter": "python",
   "pygments_lexer": "ipython3",
   "version": "3.9.13"
  },
  "orig_nbformat": 4,
  "vscode": {
   "interpreter": {
    "hash": "7d829d67fe7ca77a04bf53bbdd9901ce189fe63ede3bc9fcfd75e43fa61fec0d"
   }
  }
 },
 "nbformat": 4,
 "nbformat_minor": 2
}
