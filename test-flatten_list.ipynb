{
 "cells": [
  {
   "cell_type": "code",
   "execution_count": 1,
   "metadata": {},
   "outputs": [
    {
     "data": {
      "text/plain": [
       "[1, 2, 3, 4]"
      ]
     },
     "execution_count": 1,
     "metadata": {},
     "output_type": "execute_result"
    }
   ],
   "source": [
    "from flatten_list import *\n",
    "\n",
    "nested_list = [[[1], 2], [3, 4]]\n",
    "\n",
    "flattened_list = flatten_list(nested_list)\n",
    "\n",
    "flattened_list"
   ]
  }
 ],
 "metadata": {
  "kernelspec": {
   "display_name": "Python 3",
   "language": "python",
   "name": "python3"
  },
  "language_info": {
   "codemirror_mode": {
    "name": "ipython",
    "version": 3
   },
   "file_extension": ".py",
   "mimetype": "text/x-python",
   "name": "python",
   "nbconvert_exporter": "python",
   "pygments_lexer": "ipython3",
   "version": "3.10.9"
  },
  "orig_nbformat": 4,
  "vscode": {
   "interpreter": {
    "hash": "cebb0c7482569d7d6d0ee0d00380d78902f9ba899416b17f14b3f2b6b93570db"
   }
  }
 },
 "nbformat": 4,
 "nbformat_minor": 2
}
