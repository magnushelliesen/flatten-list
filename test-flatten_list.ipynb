{
 "cells": [
  {
   "attachments": {},
   "cell_type": "markdown",
   "metadata": {},
   "source": [
    "# Test of **flatten_list()**\n",
    "\n",
    "We import **flatten_list()**, make a nested list, and apply **flatten_list()** to it."
   ]
  },
  {
   "cell_type": "code",
   "execution_count": 1,
   "metadata": {},
   "outputs": [
    {
     "data": {
      "text/plain": [
       "[1, 2, 3, 4, 5, 6, 7, 8, 9]"
      ]
     },
     "execution_count": 1,
     "metadata": {},
     "output_type": "execute_result"
    }
   ],
   "source": [
    "# Import function from py-file\n",
    "from flatten_list import *\n",
    "\n",
    "# Make arbitrary nested list\n",
    "nested_list = [[[1], 2], [3, [4, [[[5, 6], 7]]], 8], 9]\n",
    "\n",
    "# Make flattened list\n",
    "flattened_list = flatten_list(nested_list)\n",
    "\n",
    "# Display flattened list\n",
    "flattened_list"
   ]
  }
 ],
 "metadata": {
  "kernelspec": {
   "display_name": "Python 3",
   "language": "python",
   "name": "python3"
  },
  "language_info": {
   "codemirror_mode": {
    "name": "ipython",
    "version": 3
   },
   "file_extension": ".py",
   "mimetype": "text/x-python",
   "name": "python",
   "nbconvert_exporter": "python",
   "pygments_lexer": "ipython3",
   "version": "3.10.9"
  },
  "orig_nbformat": 4,
  "vscode": {
   "interpreter": {
    "hash": "cebb0c7482569d7d6d0ee0d00380d78902f9ba899416b17f14b3f2b6b93570db"
   }
  }
 },
 "nbformat": 4,
 "nbformat_minor": 2
}
